{
 "cells": [
  {
   "cell_type": "code",
   "execution_count": 1,
   "metadata": {},
   "outputs": [],
   "source": [
    "import torch\n",
    "import pyro"
   ]
  },
  {
   "cell_type": "code",
   "execution_count": 2,
   "metadata": {},
   "outputs": [],
   "source": [
    "def link_function_1(theta, X):\n",
    "    K = theta\n",
    "    return K\n",
    "\n",
    "def link_function_2(K):\n",
    "    k = K\n",
    "    return k"
   ]
  },
  {
   "cell_type": "code",
   "execution_count": 3,
   "metadata": {},
   "outputs": [],
   "source": [
    "def model(data):\n",
    "\n",
    "    theta_dim = 4\n",
    "\n",
    "    # priors\n",
    "    theta = pyro.sample('theta', pyro.distributions.Normal(torch.zeros(theta_dim), torch.ones(theta_dim)))\n",
    "\n",
    "    # likelihood\n",
    "    with pyro.plate('data', data.shape[0]):\n",
    "        K = link_function_1(theta, data)\n",
    "        k = link_function_2(K)\n",
    "        pyro.sample('obs', pyro.distributions.Normal(k, 1), obs=data)\n",
    "\n",
    "    return theta"
   ]
  },
  {
   "cell_type": "code",
   "execution_count": 4,
   "metadata": {},
   "outputs": [],
   "source": [
    "data = torch.tensor([0., 100., 0., 100.])\n",
    "n_samples = 1000"
   ]
  },
  {
   "cell_type": "markdown",
   "metadata": {},
   "source": [
    "# Importance Sampling"
   ]
  },
  {
   "cell_type": "code",
   "execution_count": 5,
   "metadata": {},
   "outputs": [
    {
     "name": "stdout",
     "output_type": "stream",
     "text": [
      "doing importance sampling...\n",
      "tensor([0.4249, 3.0748, 0.1199, 1.4926])\n",
      "tensor([4.3226e-16, 1.9483e-16, 9.8360e-17, 1.6342e-17])\n",
      "done.\n"
     ]
    }
   ],
   "source": [
    "pyro.clear_param_store()\n",
    "pyro.set_rng_seed(0)\n",
    "# inference with importance sampling\n",
    "importance = pyro.infer.Importance(model, guide=None, num_samples=n_samples)\n",
    "\n",
    "print(\"doing importance sampling...\")\n",
    "emp_marginal = pyro.infer.EmpiricalMarginal(importance.run(data))\n",
    "\n",
    "posterior_mean = emp_marginal.mean\n",
    "posterior_std_dev = emp_marginal.variance.sqrt()\n",
    "\n",
    "# report results\n",
    "print(posterior_mean)\n",
    "print(posterior_std_dev)\n",
    "print(\"done.\")"
   ]
  },
  {
   "cell_type": "markdown",
   "metadata": {},
   "source": [
    "# MCMC"
   ]
  },
  {
   "cell_type": "code",
   "execution_count": 6,
   "metadata": {},
   "outputs": [
    {
     "name": "stderr",
     "output_type": "stream",
     "text": [
      "Warmup:   0%|          | 0/2000 [00:00, ?it/s]/Users/aliseyfi/opt/miniconda3/envs/probprog/lib/python3.9/site-packages/pyro/poutine/subsample_messenger.py:63: TracerWarning: torch.tensor results are registered as constants in the trace. You can safely ignore this warning if you use this function to create tensors out of constant variables that would be the same every time you call this function. In any other case, this might cause the trace to be incorrect.\n",
      "  result = torch.tensor(0.0, device=self.device)\n",
      "Sample: 100%|██████████| 2000/2000 [00:05, 371.64it/s, step size=6.95e-01, acc. prob=0.933]"
     ]
    },
    {
     "name": "stdout",
     "output_type": "stream",
     "text": [
      "tensor([ 4.4310e-02,  5.0033e+01, -1.5608e-02,  5.0019e+01])\n",
      "tensor([0.6693, 0.6948, 0.7145, 0.6786])\n"
     ]
    },
    {
     "name": "stderr",
     "output_type": "stream",
     "text": [
      "\n"
     ]
    }
   ],
   "source": [
    "pyro.clear_param_store()\n",
    "pyro.set_rng_seed(0)\n",
    "\n",
    "nuts_kernel = pyro.infer.NUTS(model, jit_compile=True)\n",
    "mcmc = pyro.infer.MCMC(nuts_kernel, num_samples=n_samples)\n",
    "mcmc.run(data)\n",
    "samples = mcmc.get_samples()\n",
    "samples_mean = samples['theta'].mean(axis=0)\n",
    "samples_std_dev = samples['theta'].std(axis=0)\n",
    "\n",
    "print(samples_mean)\n",
    "print(samples_std_dev)"
   ]
  },
  {
   "cell_type": "markdown",
   "metadata": {},
   "source": [
    "# HMC"
   ]
  },
  {
   "cell_type": "code",
   "execution_count": 7,
   "metadata": {},
   "outputs": [
    {
     "name": "stderr",
     "output_type": "stream",
     "text": [
      "Warmup:   0%|          | 0/1100 [00:00, ?it/s]/Users/aliseyfi/opt/miniconda3/envs/probprog/lib/python3.9/site-packages/pyro/poutine/subsample_messenger.py:63: TracerWarning: torch.tensor results are registered as constants in the trace. You can safely ignore this warning if you use this function to create tensors out of constant variables that would be the same every time you call this function. In any other case, this might cause the trace to be incorrect.\n",
      "  result = torch.tensor(0.0, device=self.device)\n",
      "Sample: 100%|██████████| 1100/1100 [00:00, 1395.59it/s, step size=8.04e-01, acc. prob=0.941]"
     ]
    },
    {
     "name": "stdout",
     "output_type": "stream",
     "text": [
      "tensor([ 1.7838e-02,  5.0043e+01, -4.4580e-02,  4.9956e+01])\n",
      "tensor([0.7182, 0.6969, 0.6691, 0.7018])\n"
     ]
    },
    {
     "name": "stderr",
     "output_type": "stream",
     "text": [
      "\n"
     ]
    }
   ],
   "source": [
    "pyro.clear_param_store()\n",
    "pyro.set_rng_seed(0)\n",
    "\n",
    "hmc_kernel = pyro.infer.HMC(model, jit_compile=True, step_size=0.0855, num_steps=4)\n",
    "mcmc = pyro.infer.MCMC(hmc_kernel, num_samples=n_samples, warmup_steps=100)\n",
    "mcmc.run(data)\n",
    "samples = mcmc.get_samples()\n",
    "\n",
    "samples_mean = samples['theta'].mean(axis=0)\n",
    "samples_std_dev = samples['theta'].std(axis=0)\n",
    "\n",
    "print(samples_mean)\n",
    "print(samples_std_dev)"
   ]
  },
  {
   "cell_type": "markdown",
   "metadata": {},
   "source": [
    "# SMC"
   ]
  },
  {
   "cell_type": "code",
   "execution_count": 25,
   "metadata": {},
   "outputs": [],
   "source": [
    "# Create model and guide for Sequential Monte Carlo\n",
    "pyro.clear_param_store()\n",
    "pyro.set_rng_seed(0)\n",
    "\n",
    "\n",
    "class Model(object):\n",
    "    def __init__(self):\n",
    "        self.theta_dim = 4\n",
    "\n",
    "    def init(self, state, initial):\n",
    "        print(initial)\n",
    "        self.t = 0\n",
    "        state['theta'] = pyro.sample('theta_init', pyro.distributions.Normal(initial, torch.ones(len(initial))))\n",
    "\n",
    "    def step(self, state, y=None):\n",
    "        self.t += 1\n",
    "        K = link_function_1(state['theta'], y)\n",
    "        k = link_function_2(K)\n",
    "        state['theta'] = pyro.sample(\"theta_{}\".format(self.t), pyro.distributions.Normal(k, 1), obs=y)\n",
    "\n",
    "        return state['theta']\n",
    "\n",
    "class Guide(object):\n",
    "    def __init__(self, model):\n",
    "        self.model = model\n",
    "        self.theta_dim = 4\n",
    "\n",
    "    def init(self, state, initial):\n",
    "        print(initial)\n",
    "        self.t = 0\n",
    "        pyro.sample('theta_init', pyro.distributions.Normal(initial, torch.ones(len(initial))))\n",
    "\n",
    "    def step(self, state, y=None):\n",
    "        self.t += 1\n",
    "        K = link_function_1(state['theta'], y)\n",
    "        k = link_function_2(K)\n",
    "        pyro.sample(\"theta_{}\".format(self.t), pyro.distributions.Normal(k, 1))"
   ]
  },
  {
   "cell_type": "code",
   "execution_count": 35,
   "metadata": {},
   "outputs": [
    {
     "name": "stdout",
     "output_type": "stream",
     "text": [
      "tensor([0., 0., 0., 0., 0., 0., 0., 0., 0., 0., 0., 0., 0., 0., 0., 0., 0., 0., 0., 0., 0., 0., 0., 0.,\n",
      "        0., 0., 0., 0., 0., 0., 0., 0., 0., 0., 0., 0., 0., 0., 0., 0., 0., 0., 0., 0., 0., 0., 0., 0.,\n",
      "        0., 0., 0., 0., 0., 0., 0., 0., 0., 0., 0., 0., 0., 0., 0., 0., 0., 0., 0., 0., 0., 0., 0., 0.,\n",
      "        0., 0., 0., 0., 0., 0., 0., 0., 0., 0., 0., 0., 0., 0., 0., 0., 0., 0., 0., 0., 0., 0., 0., 0.,\n",
      "        0., 0., 0., 0.])\n",
      "tensor([0., 0., 0., 0., 0., 0., 0., 0., 0., 0., 0., 0., 0., 0., 0., 0., 0., 0., 0., 0., 0., 0., 0., 0.,\n",
      "        0., 0., 0., 0., 0., 0., 0., 0., 0., 0., 0., 0., 0., 0., 0., 0., 0., 0., 0., 0., 0., 0., 0., 0.,\n",
      "        0., 0., 0., 0., 0., 0., 0., 0., 0., 0., 0., 0., 0., 0., 0., 0., 0., 0., 0., 0., 0., 0., 0., 0.,\n",
      "        0., 0., 0., 0., 0., 0., 0., 0., 0., 0., 0., 0., 0., 0., 0., 0., 0., 0., 0., 0., 0., 0., 0., 0.,\n",
      "        0., 0., 0., 0.])\n",
      "tensor([30., 30., 30., 30., 30., 30., 30., 30., 30., 30., 30., 30., 30., 30.,\n",
      "        30., 30., 30., 30., 30., 30., 30., 30., 30., 30., 30., 30., 30., 30.,\n",
      "        30., 30., 30., 30., 30., 30., 30., 30., 30., 30., 30., 30., 30., 30.,\n",
      "        30., 30., 30., 30., 30., 30., 30., 30., 30., 30., 30., 30., 30., 30.,\n",
      "        30., 30., 30., 30., 30., 30., 30., 30., 30., 30., 30., 30., 30., 30.,\n",
      "        30., 30., 30., 30., 30., 30., 30., 30., 30., 30., 30., 30., 30., 30.,\n",
      "        30., 30., 30., 30., 30., 30., 30., 30., 30., 30., 30., 30., 30., 30.,\n",
      "        30., 30.])\n",
      "tensor([0., 0., 0., 0., 0., 0., 0., 0., 0., 0., 0., 0., 0., 0., 0., 0., 0., 0., 0., 0., 0., 0., 0., 0.,\n",
      "        0., 0., 0., 0., 0., 0., 0., 0., 0., 0., 0., 0., 0., 0., 0., 0., 0., 0., 0., 0., 0., 0., 0., 0.,\n",
      "        0., 0., 0., 0., 0., 0., 0., 0., 0., 0., 0., 0., 0., 0., 0., 0., 0., 0., 0., 0., 0., 0., 0., 0.,\n",
      "        0., 0., 0., 0., 0., 0., 0., 0., 0., 0., 0., 0., 0., 0., 0., 0., 0., 0., 0., 0., 0., 0., 0., 0.,\n",
      "        0., 0., 0., 0.])\n",
      "tensor([10., 10., 10., 10., 10., 10., 10., 10., 10., 10., 10., 10., 10., 10.,\n",
      "        10., 10., 10., 10., 10., 10., 10., 10., 10., 10., 10., 10., 10., 10.,\n",
      "        10., 10., 10., 10., 10., 10., 10., 10., 10., 10., 10., 10., 10., 10.,\n",
      "        10., 10., 10., 10., 10., 10., 10., 10., 10., 10., 10., 10., 10., 10.,\n",
      "        10., 10., 10., 10., 10., 10., 10., 10., 10., 10., 10., 10., 10., 10.,\n",
      "        10., 10., 10., 10., 10., 10., 10., 10., 10., 10., 10., 10., 10., 10.,\n",
      "        10., 10., 10., 10., 10., 10., 10., 10., 10., 10., 10., 10., 10., 10.,\n",
      "        10., 10.])\n",
      "At final time step:\n",
      "mean: 10.0\n",
      "std: 0.0\n"
     ]
    }
   ],
   "source": [
    "pyro.set_rng_seed(0)\n",
    "\n",
    "model = Model()\n",
    "guide = Guide(model)\n",
    "\n",
    "smc = pyro.infer.SMCFilter(model, guide, num_particles=100, max_plate_nesting=0)\n",
    "\n",
    "data = torch.tensor([[0.]*100, [30.]*100, [0.]*100, [10.]*100])\n",
    "\n",
    "smc.init(initial=torch.tensor([0.]*100))\n",
    "\n",
    "for y in data[1:, :]:\n",
    "    print(y)\n",
    "    smc.step(y)\n",
    "\n",
    "print(\"At final time step:\")\n",
    "theta = smc.get_empirical()[\"theta\"]\n",
    "print(\"mean: {}\".format(theta.mean))\n",
    "print(\"std: {}\".format(theta.variance ** 0.5))\n"
   ]
  }
 ],
 "metadata": {
  "interpreter": {
   "hash": "5ac34c6cd7eeed34b8ef5a26d96fb33c83d96247b1e5d7492eca8d43f8ea1173"
  },
  "kernelspec": {
   "display_name": "Python 3.9.7 64-bit (conda)",
   "language": "python",
   "name": "python3"
  },
  "language_info": {
   "codemirror_mode": {
    "name": "ipython",
    "version": 3
   },
   "file_extension": ".py",
   "mimetype": "text/x-python",
   "name": "python",
   "nbconvert_exporter": "python",
   "pygments_lexer": "ipython3",
   "version": "3.9.7"
  },
  "orig_nbformat": 4
 },
 "nbformat": 4,
 "nbformat_minor": 2
}
